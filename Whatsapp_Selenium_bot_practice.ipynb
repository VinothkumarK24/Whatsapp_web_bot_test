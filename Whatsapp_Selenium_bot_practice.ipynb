{
 "cells": [
  {
   "cell_type": "code",
   "execution_count": 7,
   "metadata": {},
   "outputs": [
    {
     "name": "stdout",
     "output_type": "stream",
     "text": [
      "Scan QR Code and press Enter\n",
      "\n",
      "Running ...\n",
      "done\n"
     ]
    }
   ],
   "source": [
    "import time\n",
    " \n",
    "from selenium import webdriver\n",
    "from selenium.webdriver.chrome.options import Options\n",
    "from selenium.webdriver.common.by import By\n",
    "from selenium.webdriver.common.keys import Keys\n",
    "from selenium.webdriver.support.ui import Select, WebDriverWait\n",
    " \n",
    "import requests\n",
    " \n",
    "# variable to store the name of the contact\n",
    "# contact = \"Vinodh Personal\"\n",
    "contact = \"Lokesh Reddy\"\n",
    "#variable to store message\n",
    "message = \"Hi, this is automated message from vinodh script\"\n",
    "\n",
    "url = \"https://web.whatsapp.com\"\n",
    "\n",
    "#open a Whatsapp Web interface which automatically asks you to scan the QR code\n",
    "driver = webdriver.Chrome('/Users/vinodhkumar/Downloads/chromedriver')\n",
    "\n",
    "driver.get(url)\n",
    "print(\"Scan QR Code and press Enter\")\n",
    "input() # used to pause the interface until user presser enter\n",
    "print(\"Running ...\")\n",
    "time.sleep(15)\n",
    "\n",
    "selected_contact = driver.find_element_by_xpath(\"//span[@title='\"+contact+\"']\")\n",
    "selected_contact.click() # select contact\n",
    "message = driver.find_element_by_xpath('//div[@class= \"_3uMse\"]')\n",
    "message.send_keys('Hey This Automated software')\n",
    "send = driver.find_element_by_xpath('//button[@class= \"_1U1xa\"]')\n",
    "send.click()\n",
    "print('done')"
   ]
  },
  {
   "cell_type": "code",
   "execution_count": null,
   "metadata": {},
   "outputs": [],
   "source": []
  }
 ],
 "metadata": {
  "kernelspec": {
   "display_name": "Python 3",
   "language": "python",
   "name": "python3"
  },
  "language_info": {
   "codemirror_mode": {
    "name": "ipython",
    "version": 3
   },
   "file_extension": ".py",
   "mimetype": "text/x-python",
   "name": "python",
   "nbconvert_exporter": "python",
   "pygments_lexer": "ipython3",
   "version": "3.7.6"
  }
 },
 "nbformat": 4,
 "nbformat_minor": 4
}
